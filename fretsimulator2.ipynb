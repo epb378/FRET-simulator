{
  "nbformat": 4,
  "nbformat_minor": 0,
  "metadata": {
    "colab": {
      "name": "fretsimulator2.ipynb",
      "provenance": [],
      "collapsed_sections": [],
      "authorship_tag": "ABX9TyN2bH6D6YYuTc639fPOAktd",
      "include_colab_link": true
    },
    "kernelspec": {
      "name": "python3",
      "display_name": "Python 3"
    }
  },
  "cells": [
    {
      "cell_type": "markdown",
      "metadata": {
        "id": "view-in-github",
        "colab_type": "text"
      },
      "source": [
        "<a href=\"https://colab.research.google.com/github/epb378/FRET-simulator/blob/THURSAPRIL16TH/fretsimulator2.ipynb\" target=\"_parent\"><img src=\"https://colab.research.google.com/assets/colab-badge.svg\" alt=\"Open In Colab\"/></a>"
      ]
    },
    {
      "cell_type": "code",
      "metadata": {
        "id": "2tV6z7vOy9PO",
        "colab_type": "code",
        "outputId": "081d6f69-4dc5-4096-ac8d-cc7e3ae479bc",
        "colab": {
          "resources": {
            "http://localhost:8080/nbextensions/google.colab/files.js": {
              "data": "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",
              "ok": true,
              "headers": [
                [
                  "content-type",
                  "application/javascript"
                ]
              ],
              "status": 200,
              "status_text": ""
            }
          },
          "base_uri": "https://localhost:8080/",
          "height": 244
        }
      },
      "source": [
        "from google.colab import files\n",
        "uploaded=files.upload()"
      ],
      "execution_count": 2,
      "outputs": [
        {
          "output_type": "display_data",
          "data": {
            "text/html": [
              "\n",
              "     <input type=\"file\" id=\"files-f1beab71-32f4-417d-a438-68cd41cb5768\" name=\"files[]\" multiple disabled />\n",
              "     <output id=\"result-f1beab71-32f4-417d-a438-68cd41cb5768\">\n",
              "      Upload widget is only available when the cell has been executed in the\n",
              "      current browser session. Please rerun this cell to enable.\n",
              "      </output>\n",
              "      <script src=\"/nbextensions/google.colab/files.js\"></script> "
            ],
            "text/plain": [
              "<IPython.core.display.HTML object>"
            ]
          },
          "metadata": {
            "tags": []
          }
        },
        {
          "output_type": "stream",
          "text": [
            "Saving green extinction coefficient.csv to green extinction coefficient.csv\n",
            "Saving red extinction coefficient.csv to red extinction coefficient.csv\n",
            "Saving blue extinction coefficient.csv to blue extinction coefficient.csv\n",
            "Saving bluemolem.csv to bluemolem.csv\n",
            "Saving greenmolem.csv to greenmolem.csv\n",
            "Saving redmolem.csv to redmolem.csv\n"
          ],
          "name": "stdout"
        }
      ]
    },
    {
      "cell_type": "code",
      "metadata": {
        "id": "OPvFyhe_zG6A",
        "colab_type": "code",
        "outputId": "c4f3396b-51af-4a61-ac1d-e4bfa02d2c62",
        "colab": {
          "base_uri": "https://localhost:8080/",
          "height": 557
        }
      },
      "source": [
        "#importing data for emission coefficients\n",
        "import scipy\n",
        "import numpy as np\n",
        "from scipy import stats\n",
        "reddata=np.loadtxt('redmolem.csv',delimiter=',')\n",
        "redwavelength=reddata[:,0]\n",
        "greendata=np.loadtxt('greenmolem.csv',delimiter=',')\n",
        "greenwavelength=greendata[:,0]\n",
        "bluedata=np.loadtxt('bluemolem.csv',delimiter=',')\n",
        "bluewavelength=bluedata[:,0]\n",
        "redprob=reddata[:,1]\n",
        "greenprob=greendata[:,1]\n",
        "blueprob=bluedata[:,1]\n",
        "redcustm = stats.rv_discrete(name='redcustm', values=(redwavelength, redprob))\n",
        "greencustm = stats.rv_discrete(name='greencustm', values=(greenwavelength, greenprob))\n",
        "bluecustm = stats.rv_discrete(name='bluecustm', values=(bluewavelength, blueprob))\n",
        "import matplotlib.pyplot as plt\n",
        "import seaborn as sns\n",
        "plt.hist(redcustm.rvs(size=10000), color = 'red', edgecolor = 'black',\n",
        "         bins = int((700-350)/10)) #plot randomly sampled wavelngths from emission distribution\n",
        "plt.hist(greencustm.rvs(size=10000), color = 'green', edgecolor = 'black',\n",
        "         bins = int((700-350)/10)) #plot randomly sampled wavelngths from emission distribution\n",
        "plt.hist(bluecustm.rvs(size=10000), color = 'blue', edgecolor = 'black',\n",
        "         bins = int((700-350)/10)) #plot randomly sampled wavelngths from emission distribution\n",
        "#print(custm.rvs(size=100))"
      ],
      "execution_count": 3,
      "outputs": [
        {
          "output_type": "stream",
          "text": [
            "/usr/local/lib/python3.6/dist-packages/statsmodels/tools/_testing.py:19: FutureWarning: pandas.util.testing is deprecated. Use the functions in the public API at pandas.testing instead.\n",
            "  import pandas.util.testing as tm\n"
          ],
          "name": "stderr"
        },
        {
          "output_type": "execute_result",
          "data": {
            "text/plain": [
              "(array([ 84., 147., 198., 346., 387., 513., 548., 661., 698., 552., 666.,\n",
              "        572., 602., 507., 645., 551., 528., 568., 332., 329., 170., 138.,\n",
              "         98.,  42.,  42.,  20.,  24.,  10.,   8.,   7.,   3.,   1.,   1.,\n",
              "          0.,   2.]),\n",
              " array([350.        , 358.57142857, 367.14285714, 375.71428571,\n",
              "        384.28571429, 392.85714286, 401.42857143, 410.        ,\n",
              "        418.57142857, 427.14285714, 435.71428571, 444.28571429,\n",
              "        452.85714286, 461.42857143, 470.        , 478.57142857,\n",
              "        487.14285714, 495.71428571, 504.28571429, 512.85714286,\n",
              "        521.42857143, 530.        , 538.57142857, 547.14285714,\n",
              "        555.71428571, 564.28571429, 572.85714286, 581.42857143,\n",
              "        590.        , 598.57142857, 607.14285714, 615.71428571,\n",
              "        624.28571429, 632.85714286, 641.42857143, 650.        ]),\n",
              " <a list of 35 Patch objects>)"
            ]
          },
          "metadata": {
            "tags": []
          },
          "execution_count": 3
        },
        {
          "output_type": "display_data",
          "data": {
            "image/png": "[encoded data removed]",
            "text/plain": [
              "<Figure size 432x288 with 1 Axes>"
            ]
          },
          "metadata": {
            "tags": [],
            "needs_background": "light"
          }
        }
      ]
    },
    {
      "cell_type": "code",
      "metadata": {
        "id": "eI9JQlX2zhSZ",
        "colab_type": "code",
        "colab": {}
      },
      "source": [
        "#take our array of molecules (reds greens blues) and put each one in a random position on a 1-10 xyz grid\n",
        "def populategrid(molecules,Nr,Ng,Nb, Xmax, Ymax, Zmax):\n",
        "  from random import randint\n",
        "\n",
        "  Ntot=Ng+Nr+Nb\n",
        "  \n",
        "  for i in range (0,Ntot):\n",
        "    \n",
        "    molecules[i,1]=randint(1,Xmax)\n",
        "    molecules[i,2]=randint(1,Ymax)\n",
        "    molecules[i,3]=randint(1,Zmax)\n",
        "    if i>0:\n",
        "        for j in range(0,i):\n",
        "            if molecules[i,1]==molecules[j,1] and molecules[i,2]==molecules[j,2] and molecules[i,3]==molecules[j,3]:\n",
        "                i = i-1\n",
        "  return molecules"
      ],
      "execution_count": 0,
      "outputs": []
    },
    {
      "cell_type": "code",
      "metadata": {
        "id": "bIaGIvSF9qak",
        "colab_type": "code",
        "colab": {}
      },
      "source": [
        "#calculate distances between molecules\n",
        "def distancescalc (molecules, Ntot):\n",
        "  distances=np.zeros([Ntot,Ntot])\n",
        "  for i in range (0,Ntot):\n",
        "    for j in range(0,Ntot):\n",
        "      distances[i,j]=np.sqrt((molecules[i,1]-molecules[j,1])**2 + (molecules[i,2]-molecules[j,2])**2 + (molecules[i,3]-molecules[j,3])**2)\n",
        "  return distances"
      ],
      "execution_count": 0,
      "outputs": []
    },
    {
      "cell_type": "code",
      "metadata": {
        "id": "Ay2IzLbk-gdS",
        "colab_type": "code",
        "colab": {}
      },
      "source": [
        "#calculate combined extinction coefficienct\n",
        "moltomolecule=1 #ratio of molar extinction coefficient to molecular\n",
        "redabs=np.loadtxt('red extinction coefficient.csv',delimiter=',')\n",
        "greenabs=np.loadtxt('green extinction coefficient.csv',delimiter=',')\n",
        "blueabs=np.loadtxt('blue extinction coefficient.csv',delimiter=',')\n",
        "\n",
        "def combinedexctinction (redabs,greenabs,blueabs,Nr,Ng,Nb): \n",
        "  redwave=redabs[:,0]\n",
        "  greenwave=greenabs[:,0]\n",
        "  bluewave=blueabs[:,0]\n",
        "  redexct=redabs[:,1]\n",
        "  greenexct=greenabs[:,1]\n",
        "  blueexct=blueabs[:,1]\n",
        "  #the below is for 300-700 nm exctinction coefficiencts with a nm step of 1 - could try variable length later...\n",
        "  combined=np.zeros([redwave.size,5])\n",
        "  combined[:,0]=redwave\n",
        "  combined[:,1]=Nb*blueexct*moltomolecule\n",
        "  combined[:,2]=Ng*greenexct*moltomolecule\n",
        "  combined[:,3]=Nr*redexct*moltomolecule\n",
        "  combined[:,4]=combined[:,1]+combined[:,2]+combined[:,3]\n",
        "  return combined\n",
        "totalextinction=combinedexctinction(redabs,greenabs,blueabs,2,20,20)"
      ],
      "execution_count": 0,
      "outputs": []
    },
    {
      "cell_type": "code",
      "metadata": {
        "id": "0YX8LH64FZsT",
        "colab_type": "code",
        "colab": {
          "base_uri": "https://localhost:8080/",
          "height": 731
        },
        "outputId": "de321b77-86c3-4e5c-a856-b049f56fcbe2"
      },
      "source": [
        "#excite 1 random blue\n",
        "def exciterandomblue (molecules,Nb, printing=False):\n",
        "  findblues=np.where(molecules[:,0]==1) #excite random blue\n",
        "  bluesarray=findblues[0]\n",
        "  excitint=random.randint(0,Nb-1)\n",
        "  excitindex=bluesarray[excitint]\n",
        "  if printing==True:\n",
        "    print(\"start molecule is number \")\n",
        "    print( excitindex)\n",
        "  molecules[:,4]=0\n",
        "  molecules[excitindex,4]=1\n",
        "  return molecules, excitindex\n",
        "exciterandomblue(molecules,Nb)"
      ],
      "execution_count": 81,
      "outputs": [
        {
          "output_type": "execute_result",
          "data": {
            "text/plain": [
              "(array([[ 1.,  2.,  3.,  6.,  0.],\n",
              "        [ 2.,  7.,  3.,  9.,  0.],\n",
              "        [ 1.,  9.,  7.,  8.,  0.],\n",
              "        [ 1.,  1.,  1.,  3.,  0.],\n",
              "        [ 2.,  7.,  7.,  7.,  0.],\n",
              "        [ 1.,  5.,  6.,  8.,  0.],\n",
              "        [ 1.,  5.,  9.,  8.,  0.],\n",
              "        [ 1., 10., 10.,  4.,  0.],\n",
              "        [ 1.,  7.,  5., 10.,  0.],\n",
              "        [ 3.,  9.,  3.,  1.,  0.],\n",
              "        [ 3.,  5.,  1.,  5.,  0.],\n",
              "        [ 2.,  9.,  9.,  3.,  0.],\n",
              "        [ 1.,  2.,  5.,  1.,  0.],\n",
              "        [ 1.,  1.,  4.,  6.,  0.],\n",
              "        [ 2.,  2.,  7.,  4.,  0.],\n",
              "        [ 1., 10.,  7.,  1.,  0.],\n",
              "        [ 1.,  1.,  6.,  6.,  0.],\n",
              "        [ 2.,  2., 10.,  7.,  0.],\n",
              "        [ 2.,  1., 10.,  5.,  0.],\n",
              "        [ 1.,  1.,  5.,  8.,  0.],\n",
              "        [ 1.,  1.,  4.,  2.,  1.],\n",
              "        [ 2.,  7.,  5., 10.,  0.],\n",
              "        [ 2.,  1., 10.,  2.,  0.],\n",
              "        [ 1.,  9.,  9.,  6.,  0.],\n",
              "        [ 2.,  2.,  1., 10.,  0.],\n",
              "        [ 2.,  5., 10.,  1.,  0.],\n",
              "        [ 1.,  2.,  3.,  5.,  0.],\n",
              "        [ 1.,  6.,  7.,  9.,  0.],\n",
              "        [ 1.,  5.,  5., 10.,  0.],\n",
              "        [ 2.,  8.,  5.,  4.,  0.],\n",
              "        [ 2.,  8., 10.,  7.,  0.],\n",
              "        [ 2.,  8., 10.,  4.,  0.],\n",
              "        [ 1.,  2.,  5.,  6.,  0.],\n",
              "        [ 1.,  6.,  7.,  6.,  0.],\n",
              "        [ 2.,  3.,  7.,  1.,  0.],\n",
              "        [ 2.,  1.,  6.,  3.,  0.],\n",
              "        [ 2.,  2.,  6.,  3.,  0.],\n",
              "        [ 2.,  2., 10.,  9.,  0.],\n",
              "        [ 2.,  1.,  2.,  5.,  0.],\n",
              "        [ 1.,  7.,  4.,  6.,  0.],\n",
              "        [ 2.,  9.,  7.,  9.,  0.],\n",
              "        [ 2.,  4.,  8.,  8.,  0.]]), 20)"
            ]
          },
          "metadata": {
            "tags": []
          },
          "execution_count": 81
        }
      ]
    },
    {
      "cell_type": "code",
      "metadata": {
        "id": "N_lkOtygD3Ug",
        "colab_type": "code",
        "colab": {}
      },
      "source": [
        "import matplotlib.pyplot as plt #plot combined extinction coefficient\n",
        "plt.plot(totalextinction[:,0],totalextinction[:,1],'b',totalextinction[:,0],totalextinction[:,2],'g',totalextinction[:,0],totalextinction[:,3],'r',totalextinction[:,0],totalextinction[:,4],'s',)"
      ],
      "execution_count": 0,
      "outputs": []
    },
    {
      "cell_type": "code",
      "metadata": {
        "id": "lqOI9xuUKG_E",
        "colab_type": "code",
        "colab": {}
      },
      "source": [
        "def Fretting(distances,molecules,excitindex, zeroNtot,Ros,PLQEs,color,redcustm,greencustm,bluecustm, outspectrum):\n",
        "  closest=1\n",
        "  breakernumber=0\n",
        "  while True:\n",
        "    a=distances[:,excitindex] #find distances to closest molecules\n",
        "    a.shape=(Ntot,1)\n",
        "    indexeddistances= np.concatenate((zeroNtot,a), axis=1)\n",
        "    indexeddistances= indexeddistances[indexeddistances[:,1].argsort()] #find index of closest molecule\n",
        "    if molecules[int(indexeddistances[closest,0]),0] > molecules[excitindex,0]:\n",
        "      dice=np.random.random()\n",
        "      Pfret=1/(1+(indexeddistances[closest,1]/Ros[int(molecules[excitindex,0]-1),int(molecules[int(indexeddistances[closest,0]),0]-1)])**6) #fret probability\n",
        "      Pem=Pfret + (1-Pfret)*PLQEs[int(molecules[excitindex,0]-1)]\n",
        "      if dice<=Pfret:\n",
        "        molecules[excitindex,4]=0\n",
        "        molecules[int(indexeddistances[closest,0]),4]=1\n",
        "        excitindex=int(indexeddistances[closest,0])\n",
        "#                print(\"FRET\")\n",
        "      elif Pfret< dice <= Pem: #radiative emission\n",
        "        if color==3:\n",
        "          outspectrum[i]=redcustm.rvs()\n",
        "                  #print(redcustm.rvs())\n",
        "          breakernumber=1\n",
        "          break\n",
        "        elif color==2:\n",
        "          outspectrum[i]=greencustm.rvs()\n",
        "          #print(greencustm.rvs())\n",
        "          breakernumber=1\n",
        "          break\n",
        "        else:\n",
        "          outspectrum[i]=bluecustm.rvs()\n",
        "          breakernumber=1\n",
        "          break\n",
        "        \n",
        "        \n",
        "      else:\n",
        "      #print(\"non-radiative recombination, bozo\")\n",
        "        breakernumber=1\n",
        "        break\n",
        "    else:\n",
        "      closest= closest+1 #try next closest - not sure about this\n",
        "      if closest==Ntot: #don't overflow index\n",
        "        breakernumber=1\n",
        "        break\n",
        "\n",
        "  return molecules, excitindex, breakernumber, outspectrum"
      ],
      "execution_count": 0,
      "outputs": []
    },
    {
      "cell_type": "code",
      "metadata": {
        "id": "P1phWY5wzIbJ",
        "colab_type": "code",
        "outputId": "b01459b6-202d-4e70-8c93-cb9739068d48",
        "colab": {
          "base_uri": "https://localhost:8080/",
          "height": 300
        }
      },
      "source": [
        "from mpl_toolkits.mplot3d import Axes3D #(3D scatter https://matplotlib.org/3.1.1/gallery/mplot3d/scatter3d.html)\n",
        "import numpy as np\n",
        "import matplotlib.pyplot as plt\n",
        "import math\n",
        "import random\n",
        "#set up grid of Xmax*Ymax*Zmax points\n",
        "Xmax, Ymax, Zmax = 10, 10, 10\n",
        "Ros=np.array([[1,1,4],[0.01,1,4],[0.01,0.01,1]])\n",
        "PLQEs=np.array([0.2,0.9,0.99])\n",
        "#populate grid with Nb blue molecules, Ng greens, and Nr reds\n",
        "\n",
        "gtb=1 #ratio of greens to blues\n",
        "rtg=0.1 #ratio of reds to greens\n",
        "\n",
        "Nb = 20 # number of blues\n",
        "Ng = Nb*gtb #number of greens\n",
        "Nr = math.floor(Ng*rtg) #number of reds\n",
        "Ntot=Nb+Ng+Nr # total number of green molecules\n",
        "blues=np.ones([Nb,1]) #1D array of blues\n",
        "greens=np.ones([Ng,1]) #1D array of greens\n",
        "greens=greens*2 #each green is identified by the number 2\n",
        "reds=np.ones([Nr,1]) #1D array of reds\n",
        "reds=reds*3  #each red is identified by the number 3\n",
        "\n",
        "molecules=np.concatenate((reds,greens,blues)) #concatenate blues, greens, reds (1,1,...,1,2,2,...,2,3,3,...,3)\n",
        "np.random.shuffle(molecules) #(mix them up in some way)\n",
        "rest=np.zeros([Ntot,4]) #give each molecule an x y z dimension. the fourth is for indicating if it is excited or not\n",
        "molecules=np.concatenate((molecules,rest), axis=1)\n",
        "\n",
        "molecules=populategrid(molecules,Nr,Ng,Nb, Xmax, Ymax, Zmax) #put each molecule in a grid (no molecular size here)\n",
        "distances = distancescalc(molecules,Ntot) #calculate distances between each molecule here\n",
        "\n",
        "ticks=100000\n",
        "outspectrum=np.zeros([ticks]) #output emission spectrum\n",
        "\n",
        "molecules, excitindex=exciterandomblue (molecules,Nb) #excite one random blue molecule\n",
        "\n",
        "zeroNtot=np.arange(Ntot) #0 - Ntot to find index of closest molecule to excited molecule (couldn't find an easier way)\n",
        "zeroNtot.shape=(Ntot,1)\n",
        "\n",
        "for i in range (0,ticks):\n",
        "    molecules, excitindex=exciterandomblue (molecules,Nb)\n",
        "    color=molecules[excitindex,0]\n",
        "    somethinghappened=0\n",
        "    #molecules2 is dummy array which is thrown away\n",
        "    molecules2, excitindex, breakernumber, outspectrum = Fretting(distances,molecules,excitindex,zeroNtot,Ros,PLQEs,color,redcustm,greencustm,bluecustm, outspectrum)\n",
        "   # if breakernumber==1:\n",
        "      #break\n",
        "plt.hist(outspectrum, color = 'yellow', edgecolor = 'black',\n",
        "         bins = int((700-350)/10)) \n",
        "outnonzero=np.count_nonzero(outspectrum)\n",
        "outPLQE=outnonzero/(i+1)\n",
        "#print(\"end molecule is number \")\n",
        "#print( excitindex)\n",
        "print('PLQE=')\n",
        "print(outPLQE)"
      ],
      "execution_count": 98,
      "outputs": [
        {
          "output_type": "stream",
          "text": [
            "PLQE=\n",
            "0.22508\n"
          ],
          "name": "stdout"
        },
        {
          "output_type": "display_data",
          "data": {
            "image/png": "[encoded data removed]",
            "text/plain": [
              "<Figure size 432x288 with 1 Axes>"
            ]
          },
          "metadata": {
            "tags": [],
            "needs_background": "light"
          }
        }
      ]
    },
    {
      "cell_type": "code",
      "metadata": {
        "id": "si3BVTrPzPQE",
        "colab_type": "code",
        "outputId": "554d18d6-1f2a-466b-b7ee-b8bc62e09535",
        "colab": {
          "base_uri": "https://localhost:8080/",
          "height": 486
        }
      },
      "source": [
        ""
      ],
      "execution_count": 0,
      "outputs": [
        {
          "output_type": "execute_result",
          "data": {
            "text/plain": [
              "(array([12.,  0.,  0.,  0.,  0.,  0.,  0.,  0.,  0.,  0.,  0.,  0.,  0.,\n",
              "         0.,  0.,  0.,  0.,  0.,  0.,  0.,  0.,  0.,  0.,  0.,  0.,  0.,\n",
              "         0.,  9., 31., 15., 16.,  3.,  8.,  1.,  5.]),\n",
              " array([  0.        ,  18.91428571,  37.82857143,  56.74285714,\n",
              "         75.65714286,  94.57142857, 113.48571429, 132.4       ,\n",
              "        151.31428571, 170.22857143, 189.14285714, 208.05714286,\n",
              "        226.97142857, 245.88571429, 264.8       , 283.71428571,\n",
              "        302.62857143, 321.54285714, 340.45714286, 359.37142857,\n",
              "        378.28571429, 397.2       , 416.11428571, 435.02857143,\n",
              "        453.94285714, 472.85714286, 491.77142857, 510.68571429,\n",
              "        529.6       , 548.51428571, 567.42857143, 586.34285714,\n",
              "        605.25714286, 624.17142857, 643.08571429, 662.        ]),\n",
              " <a list of 35 Patch objects>)"
            ]
          },
          "metadata": {
            "tags": []
          },
          "execution_count": 29
        },
        {
          "output_type": "display_data",
          "data": {
            "image/png": "[encoded data removed]",
            "text/plain": [
              "<Figure size 432x288 with 1 Axes>"
            ]
          },
          "metadata": {
            "tags": [],
            "needs_background": "light"
          }
        }
      ]
    }
  ]
}