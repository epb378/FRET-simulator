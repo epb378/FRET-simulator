{
  "nbformat": 4,
  "nbformat_minor": 0,
  "metadata": {
    "colab": {
      "name": "fretsimulator2.ipynb",
      "provenance": [],
      "collapsed_sections": [],
      "authorship_tag": "ABX9TyO1eYwqFxVAgBULHNb2mMmr",
      "include_colab_link": true
    },
    "kernelspec": {
      "name": "python3",
      "display_name": "Python 3"
    }
  },
  "cells": [
    {
      "cell_type": "markdown",
      "metadata": {
        "id": "view-in-github",
        "colab_type": "text"
      },
      "source": [
        "<a href=\"https://colab.research.google.com/github/epb378/FRET-simulator/blob/master/fretsimulator3-functions.ipynb\" target=\"_parent\"><img src=\"https://colab.research.google.com/assets/colab-badge.svg\" alt=\"Open In Colab\"/></a>"
      ]
    },
    {
      "cell_type": "code",
      "metadata": {
        "id": "2tV6z7vOy9PO",
        "colab_type": "code",
        "outputId": "6896ad51-8831-49b6-92f0-cb2ce25720ac",
        "colab": {
          "resources": {
            "http://localhost:8080/nbextensions/google.colab/files.js": {
              "data": "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",
              "ok": true,
              "headers": [
                [
                  "content-type",
                  "application/javascript"
                ]
              ],
              "status": 200,
              "status_text": ""
            }
          },
          "base_uri": "https://localhost:8080/",
          "height": 244
        }
      },
      "source": [
        "from google.colab import files\n",
        "uploaded=files.upload()"
      ],
      "execution_count": 3,
      "outputs": [
        {
          "output_type": "display_data",
          "data": {
            "text/html": [
              "\n",
              "     <input type=\"file\" id=\"files-0553852c-15a1-4dba-b78f-09a400755318\" name=\"files[]\" multiple disabled />\n",
              "     <output id=\"result-0553852c-15a1-4dba-b78f-09a400755318\">\n",
              "      Upload widget is only available when the cell has been executed in the\n",
              "      current browser session. Please rerun this cell to enable.\n",
              "      </output>\n",
              "      <script src=\"/nbextensions/google.colab/files.js\"></script> "
            ],
            "text/plain": [
              "<IPython.core.display.HTML object>"
            ]
          },
          "metadata": {
            "tags": []
          }
        },
        {
          "output_type": "stream",
          "text": [
            "Saving green extinction coefficient.csv to green extinction coefficient.csv\n",
            "Saving red extinction coefficient.csv to red extinction coefficient.csv\n",
            "Saving blue extinction coefficient.csv to blue extinction coefficient.csv\n",
            "Saving bluemolem.csv to bluemolem.csv\n",
            "Saving greenmolem.csv to greenmolem.csv\n",
            "Saving redmolem.csv to redmolem.csv\n"
          ],
          "name": "stdout"
        }
      ]
    },
    {
      "cell_type": "code",
      "metadata": {
        "id": "OPvFyhe_zG6A",
        "colab_type": "code",
        "outputId": "03fc85f2-b8a1-41fa-ce22-238fffd710a5",
        "colab": {
          "base_uri": "https://localhost:8080/",
          "height": 898
        }
      },
      "source": [
        "\n",
        "import scipy\n",
        "import numpy as np\n",
        "from scipy import stats\n",
        "reddata=np.loadtxt('redmolem.csv',delimiter=',')\n",
        "redwavelength=reddata[:,0]\n",
        "greendata=np.loadtxt('greenmolem.csv',delimiter=',')\n",
        "greenwavelength=greendata[:,0]\n",
        "bluedata=np.loadtxt('bluemolem.csv',delimiter=',')\n",
        "bluewavelength=bluedata[:,0]\n",
        "redprob=reddata[:,1]\n",
        "greenprob=greendata[:,1]\n",
        "blueprob=bluedata[:,1]\n",
        "redcustm = stats.rv_discrete(name='redcustm', values=(redwavelength, redprob))\n",
        "greencustm = stats.rv_discrete(name='greencustm', values=(greenwavelength, greenprob))\n",
        "bluecustm = stats.rv_discrete(name='bluecustm', values=(bluewavelength, blueprob))\n",
        "import matplotlib.pyplot as plt\n",
        "import seaborn as sns\n",
        "x=np.zeros((10000,3))\n",
        "x[:,0]=bluecustm.rvs(size=10000)\n",
        "x[:,1]=greencustm.rvs(size=10000)\n",
        "x[:,2]=redcustm.rvs(size=10000)\n",
        "colors = ['blue', 'green', 'red']\n",
        "\n",
        "plt.hist(x, 35, density=True, histtype='bar', stacked=True) #plot randomly sampled wavelngths from emission distribution\n",
        "#print(custm.rvs(size=100))"
      ],
      "execution_count": 49,
      "outputs": [
        {
          "output_type": "execute_result",
          "data": {
            "text/plain": [
              "(array([[4.25833333e-04, 6.21250000e-04, 1.27458333e-03, 1.68291667e-03,\n",
              "         2.25458333e-03, 2.17000000e-03, 2.49666667e-03, 2.53750000e-03,\n",
              "         2.10583333e-03, 2.25458333e-03, 2.26916667e-03, 2.51125000e-03,\n",
              "         2.07375000e-03, 1.66250000e-03, 1.26291667e-03, 6.38750000e-04,\n",
              "         4.11250000e-04, 1.98333333e-04, 1.48750000e-04, 6.12500000e-05,\n",
              "         2.62500000e-05, 4.08333333e-05, 1.45833333e-05, 1.45833333e-05,\n",
              "         2.91666667e-06, 2.91666667e-06, 2.91666667e-06, 0.00000000e+00,\n",
              "         0.00000000e+00, 0.00000000e+00, 0.00000000e+00, 0.00000000e+00,\n",
              "         0.00000000e+00, 0.00000000e+00, 0.00000000e+00],\n",
              "        [4.25833333e-04, 6.21250000e-04, 1.27458333e-03, 1.68291667e-03,\n",
              "         2.25458333e-03, 2.17000000e-03, 2.49666667e-03, 2.53750000e-03,\n",
              "         2.10583333e-03, 2.25458333e-03, 2.26916667e-03, 2.51125000e-03,\n",
              "         2.07666667e-03, 1.72083333e-03, 2.36250000e-03, 5.27625000e-03,\n",
              "         6.67333333e-03, 3.23458333e-03, 3.11791667e-03, 3.86750000e-03,\n",
              "         2.47041667e-03, 1.24541667e-03, 6.73750000e-04, 8.83750000e-04,\n",
              "         8.07916667e-04, 6.88333333e-04, 3.64583333e-04, 1.72083333e-04,\n",
              "         7.29166667e-05, 1.16666667e-05, 8.75000000e-06, 0.00000000e+00,\n",
              "         0.00000000e+00, 0.00000000e+00, 0.00000000e+00],\n",
              "        [4.25833333e-04, 6.21250000e-04, 1.27458333e-03, 1.68291667e-03,\n",
              "         2.25458333e-03, 2.17000000e-03, 2.49666667e-03, 2.53750000e-03,\n",
              "         2.10583333e-03, 2.25458333e-03, 2.26916667e-03, 2.51125000e-03,\n",
              "         2.07666667e-03, 1.72083333e-03, 2.36250000e-03, 5.27625000e-03,\n",
              "         6.67625000e-03, 3.24041667e-03, 3.14416667e-03, 4.20583333e-03,\n",
              "         3.97541667e-03, 4.83875000e-03, 5.16833333e-03, 5.50958333e-03,\n",
              "         4.00166667e-03, 3.67500000e-03, 2.90791667e-03, 2.31291667e-03,\n",
              "         1.75583333e-03, 9.39166667e-04, 5.48333333e-04, 3.41250000e-04,\n",
              "         1.54583333e-04, 4.66666667e-05, 1.75000000e-05]]),\n",
              " array([350.        , 361.42857143, 372.85714286, 384.28571429,\n",
              "        395.71428571, 407.14285714, 418.57142857, 430.        ,\n",
              "        441.42857143, 452.85714286, 464.28571429, 475.71428571,\n",
              "        487.14285714, 498.57142857, 510.        , 521.42857143,\n",
              "        532.85714286, 544.28571429, 555.71428571, 567.14285714,\n",
              "        578.57142857, 590.        , 601.42857143, 612.85714286,\n",
              "        624.28571429, 635.71428571, 647.14285714, 658.57142857,\n",
              "        670.        , 681.42857143, 692.85714286, 704.28571429,\n",
              "        715.71428571, 727.14285714, 738.57142857, 750.        ]),\n",
              " <a list of 3 Lists of Patches objects>)"
            ]
          },
          "metadata": {
            "tags": []
          },
          "execution_count": 49
        },
        {
          "output_type": "display_data",
          "data": {
            "image/png": "[encoded data removed]",
            "text/plain": [
              "<Figure size 432x288 with 1 Axes>"
            ]
          },
          "metadata": {
            "tags": [],
            "needs_background": "light"
          }
        }
      ]
    },
    {
      "cell_type": "code",
      "metadata": {
        "id": "KJhR1U9WHnco",
        "colab_type": "code",
        "colab": {}
      },
      "source": [
        "moltomolecule=1 #ratio of molar extinction coefficient to molecular\n",
        "redabs=np.loadtxt('red extinction coefficient.csv',delimiter=',')\n",
        "greenabs=np.loadtxt('green extinction coefficient.csv',delimiter=',')\n",
        "blueabs=np.loadtxt('blue extinction coefficient.csv',delimiter=',')\n",
        "\n",
        "def combinedexctinction (redabs,greenabs,blueabs,Nr,Ng,Nb): \n",
        "  redwave=redabs[:,0]\n",
        "  greenwave=greenabs[:,0]\n",
        "  bluewave=blueabs[:,0]\n",
        "  redexct=redabs[:,1]\n",
        "  greenexct=greenabs[:,1]\n",
        "  blueexct=blueabs[:,1]\n",
        "  #the below is for 300-700 nm exctinction coefficiencts with a nm step of 1 - could try variable length later...\n",
        "  combined=np.zeros([redwave.size,5])\n",
        "  combined[:,0]=redwave\n",
        "  combined[:,1]=Nb*blueexct*moltomolecule\n",
        "  combined[:,2]=Ng*greenexct*moltomolecule\n",
        "  combined[:,3]=Nr*redexct*moltomolecule\n",
        "  combined[:,4]=combined[:,1]+combined[:,2]+combined[:,3]\n",
        "  return combined\n",
        "totalextinction=combinedexctinction(redabs,greenabs,blueabs,2,20,20)"
      ],
      "execution_count": 0,
      "outputs": []
    },
    {
      "cell_type": "code",
      "metadata": {
        "id": "eI9JQlX2zhSZ",
        "colab_type": "code",
        "colab": {}
      },
      "source": [
        "def populategrid(molecules,distances,Nr,Ng,Nb, Xmax, Ymax, Zmax,Ri):\n",
        "  from random import randint\n",
        "\n",
        "  Ntot=Ng+Nr+Nb\n",
        "  \n",
        "  for i in range (0,Ntot):\n",
        "    \n",
        "    molecules[i,1]=randint(1,Xmax)\n",
        "    molecules[i,2]=randint(1,Ymax)\n",
        "    molecules[i,3]=randint(1,Zmax)\n",
        "    if i>0:\n",
        "        for j in range(0,i):\n",
        "            distances[i,j]=np.sqrt((molecules[i,1]-molecules[j,1])**2 + (molecules[i,2]-molecules[j,2])**2 + (molecules[i,3]-molecules[j,3])**2)\n",
        "            distances[j,i]=distances[i,j]\n",
        "            if distances[i,j]<(Ri[int(molecules[i,0]-1)]+Ri[int(molecules[j,0]-1)]):\n",
        "                i = i-1\n",
        "  return molecules,distances"
      ],
      "execution_count": 0,
      "outputs": []
    },
    {
      "cell_type": "code",
      "metadata": {
        "id": "IwziF4FH4aNQ",
        "colab_type": "code",
        "colab": {}
      },
      "source": [
        "def FRETTING(distances,excitindex,Ntot,molecules,Ros,PLQEs,closest,somethinghappened, outspectrum,redcustm,greencustm,bluecustm):\n",
        "    zeroNtot=np.arange(Ntot)\n",
        "    zeroNtot.shape=(Ntot,1)\n",
        "    while somethinghappened == 0:\n",
        "        a=distances[:,excitindex] #find distances to closest molecules\n",
        "        a.shape=(Ntot,1)\n",
        "        indexeddistances= np.concatenate((zeroNtot,a), axis=1)\n",
        "        indexeddistances= indexeddistances[indexeddistances[:,1].argsort()] #find index of closest molecule\n",
        "        if molecules[int(indexeddistances[closest,0]),0] > molecules[excitindex,0]:\n",
        "            dice=np.random.random()\n",
        "            Pfret=1/(1+(indexeddistances[closest,1]/Ros[int(molecules[excitindex,0]-1),int(molecules[int(indexeddistances[closest,0]),0]-1)])**6) #fret probability\n",
        "            \n",
        "            Pem=Pfret + (1-Pfret)*PLQEs[int(molecules[excitindex,0]-1)]\n",
        "            \n",
        "            if dice<=Pfret:\n",
        "                molecules[excitindex,4]=0\n",
        "                molecules[int(indexeddistances[closest,0]),4]=1\n",
        "                excitindex=int(indexeddistances[closest,0])\n",
        "                somethinghappened=0\n",
        "            elif Pfret< dice <= Pem:\n",
        "                if color==3:\n",
        "                  outspectrum[i]=redcustm.rvs()\n",
        "                elif color==2:\n",
        "                  outspectrum[i]=greencustm.rvs()\n",
        "                else:\n",
        "                  outspectrum[i]=bluecustm.rvs()\n",
        "                somethinghappened=1\n",
        "            else:\n",
        "                #print(\"non-radiative recombination, bozo\")\n",
        "                somethinghappened=1\n",
        "        else:\n",
        "            closest= closest+1\n",
        "            if closest==Ntot:\n",
        "              break\n",
        "    return excitindex, molecules, closest, outspectrum"
      ],
      "execution_count": 0,
      "outputs": []
    },
    {
      "cell_type": "code",
      "metadata": {
        "id": "IOj_FQRyGeye",
        "colab_type": "code",
        "colab": {}
      },
      "source": [
        "def exciterandomblue (molecules,Nb, printing=False):\n",
        "  findblues=np.where(molecules[:,0]==1) #excite random blue\n",
        "  bluesarray=findblues[0]\n",
        "  excitint=random.randint(0,Nb-1)\n",
        "  excitindex=bluesarray[excitint]\n",
        "  if printing==True:\n",
        "    print(\"start molecule is number \")\n",
        "    print( excitindex)\n",
        "  molecules[:,4]=0\n",
        "  molecules[excitindex,4]=1\n",
        "  return molecules, excitindex\n",
        "#exciterandomblue(molecules,Nb)"
      ],
      "execution_count": 0,
      "outputs": []
    },
    {
      "cell_type": "code",
      "metadata": {
        "id": "P1phWY5wzIbJ",
        "colab_type": "code",
        "outputId": "6f3a8dcf-b2ae-4e0a-a9f2-03938a7a1ff5",
        "colab": {
          "base_uri": "https://localhost:8080/",
          "height": 299
        }
      },
      "source": [
        "from mpl_toolkits.mplot3d import Axes3D #(3D scatter https://matplotlib.org/3.1.1/gallery/mplot3d/scatter3d.html)\n",
        "#import numpy as np\n",
        "import matplotlib.pyplot as plt\n",
        "import math\n",
        "import random\n",
        "#set up grid of Xmax*Ymax*Zmax points\n",
        "\n",
        "#populate grid with Nb blue molecules, Ng greens, and Nr reds\n",
        "Nb = 20\n",
        "blues=np.ones([Nb,1])\n",
        "gtb=1\n",
        "Ng = Nb*gtb\n",
        "greens=np.ones([Ng,1])\n",
        "greens=greens*2\n",
        "rtg=0.1\n",
        "Nr = math.floor(Ng*rtg)\n",
        "reds=np.ones([Nr,1])\n",
        "reds=reds*3 \n",
        "Ntot=Nb+Ng+Nr\n",
        "\n",
        "###spatial units are nm###NB perylene density =1.3g/cm3. molar mass=252.3g/mol => 3e21 cm-3 =3nm-3\n",
        "Ri=np.array([[2],[2.4],[3.25]])\n",
        "dyenumberdensity=0.01 #molecules/nm3\n",
        "xyz=int(Ntot/dyenumberdensity)\n",
        "Xmax, Ymax, Zmax = xyz, xyz, xyz\n",
        "###nm resolution grid###\n",
        "Ros=np.array([[4,4.5,4.8],[0.01,4,8.9],[0.01,0.01,4]])\n",
        "PLQEs=np.array([0.2,0.9,0.99])\n",
        "\n",
        "molecules=np.concatenate((reds,greens,blues))\n",
        "#print(molecules)\n",
        "np.random.shuffle(molecules)\n",
        "rest=np.zeros([Ntot,4])\n",
        "molecules=np.concatenate((molecules,rest), axis=1)\n",
        "distances=np.zeros([Ntot,Ntot])\n",
        "molecules, distances=populategrid(molecules,distances,Nr,Ng,Nb, Xmax, Ymax, Zmax,Ri)\n",
        "       \n",
        "ticks=10000\n",
        "outspectrum=np.zeros([ticks])\n",
        "findblues=np.where(molecules[:,0]==1)\n",
        "bluesarray=findblues[0]\n",
        "excitint=random.randint(0,Nb-1)\n",
        "excitindex=bluesarray[excitint]\n",
        "molecules[:,4]=0\n",
        "molecules[excitindex,4]=1\n",
        "combinedabs=combinedexctinction (redabs,greenabs,blueabs,Nr,Ng,Nb)\n",
        "for i in range (0,ticks):\n",
        "#    print(i)\n",
        "    molecules,excitindex=exciterandomblue(molecules,Nb)\n",
        "    color=molecules[excitindex,0]\n",
        "    somethinghappened=0\n",
        "    closest=1\n",
        "    excitindex, molecules, closest, outspectrum = FRETTING(distances,excitindex,Ntot,molecules,Ros,PLQEs,closest,somethinghappened, outspectrum,redcustm,greencustm,bluecustm)\n",
        "   \n",
        "plt.hist(outspectrum, color = 'yellow', edgecolor = 'black',\n",
        "         bins = int((700-350)/10)) \n",
        "outnonzero=np.count_nonzero(outspectrum)\n",
        "\n",
        "outPLQE=outnonzero/(i)\n",
        "print('PLQE=')\n",
        "print(outPLQE)"
      ],
      "execution_count": 109,
      "outputs": [
        {
          "output_type": "stream",
          "text": [
            "PLQE=\n",
            "0.1999199919991999\n"
          ],
          "name": "stdout"
        },
        {
          "output_type": "display_data",
          "data": {
            "image/png": "[encoded data removed]",
            "text/plain": [
              "<Figure size 432x288 with 1 Axes>"
            ]
          },
          "metadata": {
            "tags": [],
            "needs_background": "light"
          }
        }
      ]
    },
    {
      "cell_type": "code",
      "metadata": {
        "id": "si3BVTrPzPQE",
        "colab_type": "code",
        "outputId": "554d18d6-1f2a-466b-b7ee-b8bc62e09535",
        "colab": {
          "base_uri": "https://localhost:8080/",
          "height": 486
        }
      },
      "source": [
        ""
      ],
      "execution_count": 0,
      "outputs": [
        {
          "output_type": "execute_result",
          "data": {
            "text/plain": [
              "(array([12.,  0.,  0.,  0.,  0.,  0.,  0.,  0.,  0.,  0.,  0.,  0.,  0.,\n",
              "         0.,  0.,  0.,  0.,  0.,  0.,  0.,  0.,  0.,  0.,  0.,  0.,  0.,\n",
              "         0.,  9., 31., 15., 16.,  3.,  8.,  1.,  5.]),\n",
              " array([  0.        ,  18.91428571,  37.82857143,  56.74285714,\n",
              "         75.65714286,  94.57142857, 113.48571429, 132.4       ,\n",
              "        151.31428571, 170.22857143, 189.14285714, 208.05714286,\n",
              "        226.97142857, 245.88571429, 264.8       , 283.71428571,\n",
              "        302.62857143, 321.54285714, 340.45714286, 359.37142857,\n",
              "        378.28571429, 397.2       , 416.11428571, 435.02857143,\n",
              "        453.94285714, 472.85714286, 491.77142857, 510.68571429,\n",
              "        529.6       , 548.51428571, 567.42857143, 586.34285714,\n",
              "        605.25714286, 624.17142857, 643.08571429, 662.        ]),\n",
              " <a list of 35 Patch objects>)"
            ]
          },
          "metadata": {
            "tags": []
          },
          "execution_count": 29
        },
        {
          "output_type": "display_data",
          "data": {
            "image/png": "[encoded data removed]",
            "text/plain": [
              "<Figure size 432x288 with 1 Axes>"
            ]
          },
          "metadata": {
            "tags": [],
            "needs_background": "light"
          }
        }
      ]
    }
  ]
}